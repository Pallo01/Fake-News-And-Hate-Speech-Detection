{
 "cells": [
  {
   "cell_type": "markdown",
   "id": "094eae8a",
   "metadata": {},
   "source": [
    "# Fake news Detection"
   ]
  },
  {
   "cell_type": "markdown",
   "id": "b306867a",
   "metadata": {},
   "source": [
    "### Importing required library\n",
    "Here I am importing some of the required library, if extra library is required to install It will be install later on."
   ]
  },
  {
   "cell_type": "code",
   "execution_count": 100,
   "id": "f09a3b94",
   "metadata": {},
   "outputs": [],
   "source": [
    "# Import necessary libraries\n",
    "import pandas as pd\n",
    "import numpy as np\n",
    "import tensorflow as tf\n",
    "from tensorflow.keras.preprocessing.text import Tokenizer\n",
    "from tensorflow.keras.preprocessing.sequence import pad_sequences\n",
    "from tensorflow.keras.models import Sequential\n",
    "from tensorflow.keras.layers import Dense, Embedding, Conv1D, GlobalMaxPooling1D,LSTM, Dropout\n",
    "from sklearn.model_selection import train_test_split\n",
    "from sklearn.metrics import accuracy_score, confusion_matrix"
   ]
  },
  {
   "cell_type": "markdown",
   "id": "3e54d707",
   "metadata": {},
   "source": [
    "### Read all the available datasets"
   ]
  },
  {
   "cell_type": "code",
   "execution_count": 77,
   "id": "da05cf4c",
   "metadata": {},
   "outputs": [],
   "source": [
    "df_true = pd.read_csv(\"datasets/FakeNews/True.csv\")\n",
    "df_fake = pd.read_csv(\"datasets/FakeNews/Fake.csv\")\n",
    "df_api =pd.read_csv(\"datasets/FakeNews/ApiNews.csv\")"
   ]
  },
  {
   "cell_type": "markdown",
   "id": "69964086",
   "metadata": {},
   "source": [
    "Inserting a column called \"label\" for fake and real news dataset to categories fake and true news. "
   ]
  },
  {
   "cell_type": "code",
   "execution_count": 78,
   "id": "8d4ba498",
   "metadata": {},
   "outputs": [],
   "source": [
    "df_fake[\"label\"] = 0\n",
    "df_true[\"label\"] = 1"
   ]
  },
  {
   "cell_type": "code",
   "execution_count": 79,
   "id": "da363d17",
   "metadata": {},
   "outputs": [
    {
     "data": {
      "text/html": [
       "<div>\n",
       "<style scoped>\n",
       "    .dataframe tbody tr th:only-of-type {\n",
       "        vertical-align: middle;\n",
       "    }\n",
       "\n",
       "    .dataframe tbody tr th {\n",
       "        vertical-align: top;\n",
       "    }\n",
       "\n",
       "    .dataframe thead th {\n",
       "        text-align: right;\n",
       "    }\n",
       "</style>\n",
       "<table border=\"1\" class=\"dataframe\">\n",
       "  <thead>\n",
       "    <tr style=\"text-align: right;\">\n",
       "      <th></th>\n",
       "      <th>title</th>\n",
       "      <th>text</th>\n",
       "      <th>subject</th>\n",
       "      <th>date</th>\n",
       "      <th>label</th>\n",
       "    </tr>\n",
       "  </thead>\n",
       "  <tbody>\n",
       "    <tr>\n",
       "      <th>0</th>\n",
       "      <td>As U.S. budget fight looms, Republicans flip t...</td>\n",
       "      <td>WASHINGTON (Reuters) - The head of a conservat...</td>\n",
       "      <td>politicsNews</td>\n",
       "      <td>December 31, 2017</td>\n",
       "      <td>1</td>\n",
       "    </tr>\n",
       "    <tr>\n",
       "      <th>1</th>\n",
       "      <td>U.S. military to accept transgender recruits o...</td>\n",
       "      <td>WASHINGTON (Reuters) - Transgender people will...</td>\n",
       "      <td>politicsNews</td>\n",
       "      <td>December 29, 2017</td>\n",
       "      <td>1</td>\n",
       "    </tr>\n",
       "    <tr>\n",
       "      <th>2</th>\n",
       "      <td>Senior U.S. Republican senator: 'Let Mr. Muell...</td>\n",
       "      <td>WASHINGTON (Reuters) - The special counsel inv...</td>\n",
       "      <td>politicsNews</td>\n",
       "      <td>December 31, 2017</td>\n",
       "      <td>1</td>\n",
       "    </tr>\n",
       "    <tr>\n",
       "      <th>3</th>\n",
       "      <td>FBI Russia probe helped by Australian diplomat...</td>\n",
       "      <td>WASHINGTON (Reuters) - Trump campaign adviser ...</td>\n",
       "      <td>politicsNews</td>\n",
       "      <td>December 30, 2017</td>\n",
       "      <td>1</td>\n",
       "    </tr>\n",
       "    <tr>\n",
       "      <th>4</th>\n",
       "      <td>Trump wants Postal Service to charge 'much mor...</td>\n",
       "      <td>SEATTLE/WASHINGTON (Reuters) - President Donal...</td>\n",
       "      <td>politicsNews</td>\n",
       "      <td>December 29, 2017</td>\n",
       "      <td>1</td>\n",
       "    </tr>\n",
       "  </tbody>\n",
       "</table>\n",
       "</div>"
      ],
      "text/plain": [
       "                                               title  \\\n",
       "0  As U.S. budget fight looms, Republicans flip t...   \n",
       "1  U.S. military to accept transgender recruits o...   \n",
       "2  Senior U.S. Republican senator: 'Let Mr. Muell...   \n",
       "3  FBI Russia probe helped by Australian diplomat...   \n",
       "4  Trump wants Postal Service to charge 'much mor...   \n",
       "\n",
       "                                                text       subject  \\\n",
       "0  WASHINGTON (Reuters) - The head of a conservat...  politicsNews   \n",
       "1  WASHINGTON (Reuters) - Transgender people will...  politicsNews   \n",
       "2  WASHINGTON (Reuters) - The special counsel inv...  politicsNews   \n",
       "3  WASHINGTON (Reuters) - Trump campaign adviser ...  politicsNews   \n",
       "4  SEATTLE/WASHINGTON (Reuters) - President Donal...  politicsNews   \n",
       "\n",
       "                 date  label  \n",
       "0  December 31, 2017       1  \n",
       "1  December 29, 2017       1  \n",
       "2  December 31, 2017       1  \n",
       "3  December 30, 2017       1  \n",
       "4  December 29, 2017       1  "
      ]
     },
     "execution_count": 79,
     "metadata": {},
     "output_type": "execute_result"
    }
   ],
   "source": [
    "df_true.head(5)"
   ]
  },
  {
   "cell_type": "code",
   "execution_count": 80,
   "id": "36d86fc2",
   "metadata": {},
   "outputs": [
    {
     "data": {
      "text/html": [
       "<div>\n",
       "<style scoped>\n",
       "    .dataframe tbody tr th:only-of-type {\n",
       "        vertical-align: middle;\n",
       "    }\n",
       "\n",
       "    .dataframe tbody tr th {\n",
       "        vertical-align: top;\n",
       "    }\n",
       "\n",
       "    .dataframe thead th {\n",
       "        text-align: right;\n",
       "    }\n",
       "</style>\n",
       "<table border=\"1\" class=\"dataframe\">\n",
       "  <thead>\n",
       "    <tr style=\"text-align: right;\">\n",
       "      <th></th>\n",
       "      <th>title</th>\n",
       "      <th>text</th>\n",
       "      <th>subject</th>\n",
       "      <th>date</th>\n",
       "      <th>label</th>\n",
       "    </tr>\n",
       "  </thead>\n",
       "  <tbody>\n",
       "    <tr>\n",
       "      <th>0</th>\n",
       "      <td>Donald Trump Sends Out Embarrassing New Year’...</td>\n",
       "      <td>Donald Trump just couldn t wish all Americans ...</td>\n",
       "      <td>News</td>\n",
       "      <td>December 31, 2017</td>\n",
       "      <td>0</td>\n",
       "    </tr>\n",
       "    <tr>\n",
       "      <th>1</th>\n",
       "      <td>Drunk Bragging Trump Staffer Started Russian ...</td>\n",
       "      <td>House Intelligence Committee Chairman Devin Nu...</td>\n",
       "      <td>News</td>\n",
       "      <td>December 31, 2017</td>\n",
       "      <td>0</td>\n",
       "    </tr>\n",
       "    <tr>\n",
       "      <th>2</th>\n",
       "      <td>Sheriff David Clarke Becomes An Internet Joke...</td>\n",
       "      <td>On Friday, it was revealed that former Milwauk...</td>\n",
       "      <td>News</td>\n",
       "      <td>December 30, 2017</td>\n",
       "      <td>0</td>\n",
       "    </tr>\n",
       "    <tr>\n",
       "      <th>3</th>\n",
       "      <td>Trump Is So Obsessed He Even Has Obama’s Name...</td>\n",
       "      <td>On Christmas day, Donald Trump announced that ...</td>\n",
       "      <td>News</td>\n",
       "      <td>December 29, 2017</td>\n",
       "      <td>0</td>\n",
       "    </tr>\n",
       "    <tr>\n",
       "      <th>4</th>\n",
       "      <td>Pope Francis Just Called Out Donald Trump Dur...</td>\n",
       "      <td>Pope Francis used his annual Christmas Day mes...</td>\n",
       "      <td>News</td>\n",
       "      <td>December 25, 2017</td>\n",
       "      <td>0</td>\n",
       "    </tr>\n",
       "  </tbody>\n",
       "</table>\n",
       "</div>"
      ],
      "text/plain": [
       "                                               title  \\\n",
       "0   Donald Trump Sends Out Embarrassing New Year’...   \n",
       "1   Drunk Bragging Trump Staffer Started Russian ...   \n",
       "2   Sheriff David Clarke Becomes An Internet Joke...   \n",
       "3   Trump Is So Obsessed He Even Has Obama’s Name...   \n",
       "4   Pope Francis Just Called Out Donald Trump Dur...   \n",
       "\n",
       "                                                text subject  \\\n",
       "0  Donald Trump just couldn t wish all Americans ...    News   \n",
       "1  House Intelligence Committee Chairman Devin Nu...    News   \n",
       "2  On Friday, it was revealed that former Milwauk...    News   \n",
       "3  On Christmas day, Donald Trump announced that ...    News   \n",
       "4  Pope Francis used his annual Christmas Day mes...    News   \n",
       "\n",
       "                date  label  \n",
       "0  December 31, 2017      0  \n",
       "1  December 31, 2017      0  \n",
       "2  December 30, 2017      0  \n",
       "3  December 29, 2017      0  \n",
       "4  December 25, 2017      0  "
      ]
     },
     "execution_count": 80,
     "metadata": {},
     "output_type": "execute_result"
    }
   ],
   "source": [
    "df_fake.head(5)"
   ]
  },
  {
   "cell_type": "code",
   "execution_count": 81,
   "id": "9d31c581",
   "metadata": {},
   "outputs": [
    {
     "data": {
      "text/html": [
       "<div>\n",
       "<style scoped>\n",
       "    .dataframe tbody tr th:only-of-type {\n",
       "        vertical-align: middle;\n",
       "    }\n",
       "\n",
       "    .dataframe tbody tr th {\n",
       "        vertical-align: top;\n",
       "    }\n",
       "\n",
       "    .dataframe thead th {\n",
       "        text-align: right;\n",
       "    }\n",
       "</style>\n",
       "<table border=\"1\" class=\"dataframe\">\n",
       "  <thead>\n",
       "    <tr style=\"text-align: right;\">\n",
       "      <th></th>\n",
       "      <th>title</th>\n",
       "      <th>text</th>\n",
       "      <th>subject</th>\n",
       "      <th>date</th>\n",
       "      <th>label</th>\n",
       "    </tr>\n",
       "  </thead>\n",
       "  <tbody>\n",
       "    <tr>\n",
       "      <th>0</th>\n",
       "      <td>Bigg Boss 16 Winner: MC Stan lifts the trophy ...</td>\n",
       "      <td>The Bigg Boss 16 Finale turned out to be a gra...</td>\n",
       "      <td>general</td>\n",
       "      <td>2023-02-12</td>\n",
       "      <td>1</td>\n",
       "    </tr>\n",
       "    <tr>\n",
       "      <th>1</th>\n",
       "      <td>US Shuts Airspace Over Lake Michigan, Cites \"N...</td>\n",
       "      <td>The airspace over Lake Michigan has been tempo...</td>\n",
       "      <td>general</td>\n",
       "      <td>2023-02-12</td>\n",
       "      <td>1</td>\n",
       "    </tr>\n",
       "    <tr>\n",
       "      <th>2</th>\n",
       "      <td>Google search chief warns against `hallucinati...</td>\n",
       "      <td>Google search chief warns against hallucinatin...</td>\n",
       "      <td>general</td>\n",
       "      <td>2023-02-12</td>\n",
       "      <td>1</td>\n",
       "    </tr>\n",
       "    <tr>\n",
       "      <th>3</th>\n",
       "      <td>Ayodhya to triple talaq verdict: All about ex-...</td>\n",
       "      <td>Former Supreme Court judge S Abdul Nazeer was ...</td>\n",
       "      <td>general</td>\n",
       "      <td>2023-02-12</td>\n",
       "      <td>1</td>\n",
       "    </tr>\n",
       "    <tr>\n",
       "      <th>4</th>\n",
       "      <td>\"Was Made An Offer In Jail Which...\": Maharash...</td>\n",
       "      <td>Nationalist Congress Party leader and former M...</td>\n",
       "      <td>general</td>\n",
       "      <td>2023-02-12</td>\n",
       "      <td>1</td>\n",
       "    </tr>\n",
       "  </tbody>\n",
       "</table>\n",
       "</div>"
      ],
      "text/plain": [
       "                                               title  \\\n",
       "0  Bigg Boss 16 Winner: MC Stan lifts the trophy ...   \n",
       "1  US Shuts Airspace Over Lake Michigan, Cites \"N...   \n",
       "2  Google search chief warns against `hallucinati...   \n",
       "3  Ayodhya to triple talaq verdict: All about ex-...   \n",
       "4  \"Was Made An Offer In Jail Which...\": Maharash...   \n",
       "\n",
       "                                                text  subject        date  \\\n",
       "0  The Bigg Boss 16 Finale turned out to be a gra...  general  2023-02-12   \n",
       "1  The airspace over Lake Michigan has been tempo...  general  2023-02-12   \n",
       "2  Google search chief warns against hallucinatin...  general  2023-02-12   \n",
       "3  Former Supreme Court judge S Abdul Nazeer was ...  general  2023-02-12   \n",
       "4  Nationalist Congress Party leader and former M...  general  2023-02-12   \n",
       "\n",
       "   label  \n",
       "0      1  \n",
       "1      1  \n",
       "2      1  \n",
       "3      1  \n",
       "4      1  "
      ]
     },
     "execution_count": 81,
     "metadata": {},
     "output_type": "execute_result"
    }
   ],
   "source": [
    "df_api.head(5)"
   ]
  },
  {
   "cell_type": "code",
   "execution_count": 82,
   "id": "1c9b602b",
   "metadata": {},
   "outputs": [
    {
     "data": {
      "text/plain": [
       "((21417, 5), (23481, 5), (7379, 5))"
      ]
     },
     "execution_count": 82,
     "metadata": {},
     "output_type": "execute_result"
    }
   ],
   "source": [
    "df_true.shape, df_fake.shape, df_api.shape"
   ]
  },
  {
   "cell_type": "markdown",
   "id": "c8c3a1e8",
   "metadata": {},
   "source": [
    "#### Merging All the Datasets"
   ]
  },
  {
   "cell_type": "code",
   "execution_count": 83,
   "id": "35832310",
   "metadata": {},
   "outputs": [],
   "source": [
    "df_merge = pd.concat([df_true, df_fake, df_api], axis =0 )"
   ]
  },
  {
   "cell_type": "code",
   "execution_count": 84,
   "id": "88558785",
   "metadata": {},
   "outputs": [
    {
     "name": "stdout",
     "output_type": "stream",
     "text": [
      "Index(['title', 'text', 'subject', 'date', 'label'], dtype='object')\n"
     ]
    },
    {
     "data": {
      "text/plain": [
       "(52277, 5)"
      ]
     },
     "execution_count": 84,
     "metadata": {},
     "output_type": "execute_result"
    }
   ],
   "source": [
    "print(df_merge.columns)\n",
    "df_merge.shape"
   ]
  },
  {
   "cell_type": "markdown",
   "id": "3a20862f",
   "metadata": {},
   "source": [
    "### Data Preprocessing"
   ]
  },
  {
   "cell_type": "markdown",
   "id": "da18166e",
   "metadata": {},
   "source": [
    "##### Drop rows with null values"
   ]
  },
  {
   "cell_type": "code",
   "execution_count": 85,
   "id": "79773e52",
   "metadata": {},
   "outputs": [
    {
     "data": {
      "text/plain": [
       "0"
      ]
     },
     "execution_count": 85,
     "metadata": {},
     "output_type": "execute_result"
    }
   ],
   "source": [
    "df_merge['text'].isna().sum()"
   ]
  },
  {
   "cell_type": "code",
   "execution_count": 86,
   "id": "ad418a7f",
   "metadata": {},
   "outputs": [
    {
     "data": {
      "text/plain": [
       "(52277, 5)"
      ]
     },
     "execution_count": 86,
     "metadata": {},
     "output_type": "execute_result"
    }
   ],
   "source": [
    "df_merge = df_merge.dropna(subset=['text'],axis=0)\n",
    "df_merge.shape"
   ]
  },
  {
   "cell_type": "markdown",
   "id": "f01e5266",
   "metadata": {},
   "source": [
    "##### Drop duplicates row"
   ]
  },
  {
   "cell_type": "code",
   "execution_count": 87,
   "id": "bce77443",
   "metadata": {},
   "outputs": [
    {
     "data": {
      "text/plain": [
       "6252"
      ]
     },
     "execution_count": 87,
     "metadata": {},
     "output_type": "execute_result"
    }
   ],
   "source": [
    "df_merge.duplicated(['text']).sum()"
   ]
  },
  {
   "cell_type": "code",
   "execution_count": 88,
   "id": "23c587b1",
   "metadata": {},
   "outputs": [
    {
     "data": {
      "text/plain": [
       "(46025, 5)"
      ]
     },
     "execution_count": 88,
     "metadata": {},
     "output_type": "execute_result"
    }
   ],
   "source": [
    "df_merge.drop_duplicates(['text'],inplace=True)\n",
    "df_merge.shape"
   ]
  },
  {
   "cell_type": "markdown",
   "id": "7ecae30f",
   "metadata": {},
   "source": [
    "#### Randomly shuffling the dataframe "
   ]
  },
  {
   "cell_type": "code",
   "execution_count": 89,
   "id": "774e455a",
   "metadata": {},
   "outputs": [
    {
     "data": {
      "text/html": [
       "<div>\n",
       "<style scoped>\n",
       "    .dataframe tbody tr th:only-of-type {\n",
       "        vertical-align: middle;\n",
       "    }\n",
       "\n",
       "    .dataframe tbody tr th {\n",
       "        vertical-align: top;\n",
       "    }\n",
       "\n",
       "    .dataframe thead th {\n",
       "        text-align: right;\n",
       "    }\n",
       "</style>\n",
       "<table border=\"1\" class=\"dataframe\">\n",
       "  <thead>\n",
       "    <tr style=\"text-align: right;\">\n",
       "      <th></th>\n",
       "      <th>title</th>\n",
       "      <th>text</th>\n",
       "      <th>subject</th>\n",
       "      <th>date</th>\n",
       "      <th>label</th>\n",
       "    </tr>\n",
       "  </thead>\n",
       "  <tbody>\n",
       "    <tr>\n",
       "      <th>10640</th>\n",
       "      <td>AUSTRIA’S NOT PLAYING GAMES: Bans Face-Conceal...</td>\n",
       "      <td>Will Austria s new mandates help to save their...</td>\n",
       "      <td>politics</td>\n",
       "      <td>Jun 12, 2017</td>\n",
       "      <td>0</td>\n",
       "    </tr>\n",
       "    <tr>\n",
       "      <th>4025</th>\n",
       "      <td>Trump’s Problems With Women Get Worse As Anot...</td>\n",
       "      <td>Donald Trump keeps saying that all the women w...</td>\n",
       "      <td>News</td>\n",
       "      <td>October 27, 2016</td>\n",
       "      <td>0</td>\n",
       "    </tr>\n",
       "    <tr>\n",
       "      <th>6894</th>\n",
       "      <td>California prepares to fight Trump on immigrat...</td>\n",
       "      <td>SACRAMENTO, Calif. (Reuters) - Lawmakers in De...</td>\n",
       "      <td>politicsNews</td>\n",
       "      <td>December 6, 2016</td>\n",
       "      <td>1</td>\n",
       "    </tr>\n",
       "    <tr>\n",
       "      <th>19031</th>\n",
       "      <td>Iraqi soldiers join Turkish exercises near sha...</td>\n",
       "      <td>HABUR, Turkey (Reuters) - Iraqi soldiers joine...</td>\n",
       "      <td>worldnews</td>\n",
       "      <td>September 26, 2017</td>\n",
       "      <td>1</td>\n",
       "    </tr>\n",
       "    <tr>\n",
       "      <th>18450</th>\n",
       "      <td>U.S. calls on Russia to release Crimean dissid...</td>\n",
       "      <td>WASHINGTON (Reuters) - The United States was  ...</td>\n",
       "      <td>worldnews</td>\n",
       "      <td>October 3, 2017</td>\n",
       "      <td>1</td>\n",
       "    </tr>\n",
       "  </tbody>\n",
       "</table>\n",
       "</div>"
      ],
      "text/plain": [
       "                                                   title  \\\n",
       "10640  AUSTRIA’S NOT PLAYING GAMES: Bans Face-Conceal...   \n",
       "4025    Trump’s Problems With Women Get Worse As Anot...   \n",
       "6894   California prepares to fight Trump on immigrat...   \n",
       "19031  Iraqi soldiers join Turkish exercises near sha...   \n",
       "18450  U.S. calls on Russia to release Crimean dissid...   \n",
       "\n",
       "                                                    text       subject  \\\n",
       "10640  Will Austria s new mandates help to save their...      politics   \n",
       "4025   Donald Trump keeps saying that all the women w...          News   \n",
       "6894   SACRAMENTO, Calif. (Reuters) - Lawmakers in De...  politicsNews   \n",
       "19031  HABUR, Turkey (Reuters) - Iraqi soldiers joine...     worldnews   \n",
       "18450  WASHINGTON (Reuters) - The United States was  ...     worldnews   \n",
       "\n",
       "                      date  label  \n",
       "10640         Jun 12, 2017      0  \n",
       "4025      October 27, 2016      0  \n",
       "6894     December 6, 2016       1  \n",
       "19031  September 26, 2017       1  \n",
       "18450     October 3, 2017       1  "
      ]
     },
     "execution_count": 89,
     "metadata": {},
     "output_type": "execute_result"
    }
   ],
   "source": [
    "df_merge = df_merge.sample(frac = 1)\n",
    "df_merge.head()"
   ]
  },
  {
   "cell_type": "code",
   "execution_count": 90,
   "id": "a99fae2a",
   "metadata": {},
   "outputs": [
    {
     "data": {
      "text/plain": [
       "Index(['title', 'text', 'subject', 'date', 'label'], dtype='object')"
      ]
     },
     "execution_count": 90,
     "metadata": {},
     "output_type": "execute_result"
    }
   ],
   "source": [
    "df_merge.reset_index(inplace = True)\n",
    "df_merge.drop([\"index\"], axis = 1, inplace = True)\n",
    "df_merge.columns"
   ]
  },
  {
   "cell_type": "code",
   "execution_count": 91,
   "id": "4e2bc0d7",
   "metadata": {},
   "outputs": [
    {
     "data": {
      "text/html": [
       "<div>\n",
       "<style scoped>\n",
       "    .dataframe tbody tr th:only-of-type {\n",
       "        vertical-align: middle;\n",
       "    }\n",
       "\n",
       "    .dataframe tbody tr th {\n",
       "        vertical-align: top;\n",
       "    }\n",
       "\n",
       "    .dataframe thead th {\n",
       "        text-align: right;\n",
       "    }\n",
       "</style>\n",
       "<table border=\"1\" class=\"dataframe\">\n",
       "  <thead>\n",
       "    <tr style=\"text-align: right;\">\n",
       "      <th></th>\n",
       "      <th>title</th>\n",
       "      <th>text</th>\n",
       "      <th>subject</th>\n",
       "      <th>date</th>\n",
       "      <th>label</th>\n",
       "    </tr>\n",
       "  </thead>\n",
       "  <tbody>\n",
       "    <tr>\n",
       "      <th>0</th>\n",
       "      <td>AUSTRIA’S NOT PLAYING GAMES: Bans Face-Conceal...</td>\n",
       "      <td>Will Austria s new mandates help to save their...</td>\n",
       "      <td>politics</td>\n",
       "      <td>Jun 12, 2017</td>\n",
       "      <td>0</td>\n",
       "    </tr>\n",
       "    <tr>\n",
       "      <th>1</th>\n",
       "      <td>Trump’s Problems With Women Get Worse As Anot...</td>\n",
       "      <td>Donald Trump keeps saying that all the women w...</td>\n",
       "      <td>News</td>\n",
       "      <td>October 27, 2016</td>\n",
       "      <td>0</td>\n",
       "    </tr>\n",
       "    <tr>\n",
       "      <th>2</th>\n",
       "      <td>California prepares to fight Trump on immigrat...</td>\n",
       "      <td>SACRAMENTO, Calif. (Reuters) - Lawmakers in De...</td>\n",
       "      <td>politicsNews</td>\n",
       "      <td>December 6, 2016</td>\n",
       "      <td>1</td>\n",
       "    </tr>\n",
       "    <tr>\n",
       "      <th>3</th>\n",
       "      <td>Iraqi soldiers join Turkish exercises near sha...</td>\n",
       "      <td>HABUR, Turkey (Reuters) - Iraqi soldiers joine...</td>\n",
       "      <td>worldnews</td>\n",
       "      <td>September 26, 2017</td>\n",
       "      <td>1</td>\n",
       "    </tr>\n",
       "    <tr>\n",
       "      <th>4</th>\n",
       "      <td>U.S. calls on Russia to release Crimean dissid...</td>\n",
       "      <td>WASHINGTON (Reuters) - The United States was  ...</td>\n",
       "      <td>worldnews</td>\n",
       "      <td>October 3, 2017</td>\n",
       "      <td>1</td>\n",
       "    </tr>\n",
       "  </tbody>\n",
       "</table>\n",
       "</div>"
      ],
      "text/plain": [
       "                                               title  \\\n",
       "0  AUSTRIA’S NOT PLAYING GAMES: Bans Face-Conceal...   \n",
       "1   Trump’s Problems With Women Get Worse As Anot...   \n",
       "2  California prepares to fight Trump on immigrat...   \n",
       "3  Iraqi soldiers join Turkish exercises near sha...   \n",
       "4  U.S. calls on Russia to release Crimean dissid...   \n",
       "\n",
       "                                                text       subject  \\\n",
       "0  Will Austria s new mandates help to save their...      politics   \n",
       "1  Donald Trump keeps saying that all the women w...          News   \n",
       "2  SACRAMENTO, Calif. (Reuters) - Lawmakers in De...  politicsNews   \n",
       "3  HABUR, Turkey (Reuters) - Iraqi soldiers joine...     worldnews   \n",
       "4  WASHINGTON (Reuters) - The United States was  ...     worldnews   \n",
       "\n",
       "                  date  label  \n",
       "0         Jun 12, 2017      0  \n",
       "1     October 27, 2016      0  \n",
       "2    December 6, 2016       1  \n",
       "3  September 26, 2017       1  \n",
       "4     October 3, 2017       1  "
      ]
     },
     "execution_count": 91,
     "metadata": {},
     "output_type": "execute_result"
    }
   ],
   "source": [
    "df_merge.head()"
   ]
  },
  {
   "cell_type": "markdown",
   "id": "54bf4792",
   "metadata": {},
   "source": [
    "#### Exporting 2000 news from the dataframe for manual testing\n",
    "##### These news will not be used in training the model it will be dropped from the dataframe on exported"
   ]
  },
  {
   "cell_type": "code",
   "execution_count": 92,
   "id": "5a729fa9",
   "metadata": {},
   "outputs": [
    {
     "name": "stdout",
     "output_type": "stream",
     "text": [
      "testData.json exported to client/src/api folder\n",
      "(44025, 5)\n"
     ]
    }
   ],
   "source": [
    "#Adding the first 2000 data to the testData.json file for manual testing\n",
    "testData = df_merge.head(2000)\n",
    "#Removing the first 5000 data from the datasets\n",
    "df_merge = df_merge.iloc[2000:,]\n",
    "#Exporting data as a json file\n",
    "testData.reset_index(drop=True,inplace=True)\n",
    "testData.sort_index(inplace=True)\n",
    "testData.to_json(\"client/src/api/testData.json\",orient ='records')\n",
    "print(\"testData.json exported to client/src/api folder\")\n",
    "print(df_merge.shape)"
   ]
  },
  {
   "cell_type": "markdown",
   "metadata": {},
   "source": [
    "#### \"title\",  \"subject\" and \"date\" columns is not required for detecting the fake news, so I am going to drop the columns.\n",
    "## Final Dataset is: df"
   ]
  },
  {
   "cell_type": "code",
   "execution_count": 93,
   "metadata": {},
   "outputs": [
    {
     "data": {
      "text/plain": [
       "Index(['text', 'label'], dtype='object')"
      ]
     },
     "execution_count": 93,
     "metadata": {},
     "output_type": "execute_result"
    }
   ],
   "source": [
    "\n",
    "df = df_merge.drop([\"title\", \"subject\",\"date\"], axis = 1)\n",
    "df.columns"
   ]
  },
  {
   "cell_type": "code",
   "execution_count": 94,
   "metadata": {},
   "outputs": [
    {
     "data": {
      "text/html": [
       "<div>\n",
       "<style scoped>\n",
       "    .dataframe tbody tr th:only-of-type {\n",
       "        vertical-align: middle;\n",
       "    }\n",
       "\n",
       "    .dataframe tbody tr th {\n",
       "        vertical-align: top;\n",
       "    }\n",
       "\n",
       "    .dataframe thead th {\n",
       "        text-align: right;\n",
       "    }\n",
       "</style>\n",
       "<table border=\"1\" class=\"dataframe\">\n",
       "  <thead>\n",
       "    <tr style=\"text-align: right;\">\n",
       "      <th></th>\n",
       "      <th>text</th>\n",
       "      <th>label</th>\n",
       "    </tr>\n",
       "  </thead>\n",
       "  <tbody>\n",
       "    <tr>\n",
       "      <th>2000</th>\n",
       "      <td>WASHINGTON (Reuters) - As a candidate, U.S. Pr...</td>\n",
       "      <td>1</td>\n",
       "    </tr>\n",
       "    <tr>\n",
       "      <th>2001</th>\n",
       "      <td>&lt;ol&gt;&lt;li&gt;'This is too much': B.C. mom records p...</td>\n",
       "      <td>1</td>\n",
       "    </tr>\n",
       "    <tr>\n",
       "      <th>2002</th>\n",
       "      <td>(Reuters) - The Senate Homeland Security Commi...</td>\n",
       "      <td>1</td>\n",
       "    </tr>\n",
       "    <tr>\n",
       "      <th>2003</th>\n",
       "      <td>Meanwhile back in the good  ole USA, liberals ...</td>\n",
       "      <td>0</td>\n",
       "    </tr>\n",
       "    <tr>\n",
       "      <th>2004</th>\n",
       "      <td>MOSCOW (Reuters) - Russia s FSB security servi...</td>\n",
       "      <td>1</td>\n",
       "    </tr>\n",
       "  </tbody>\n",
       "</table>\n",
       "</div>"
      ],
      "text/plain": [
       "                                                   text  label\n",
       "2000  WASHINGTON (Reuters) - As a candidate, U.S. Pr...      1\n",
       "2001  <ol><li>'This is too much': B.C. mom records p...      1\n",
       "2002  (Reuters) - The Senate Homeland Security Commi...      1\n",
       "2003  Meanwhile back in the good  ole USA, liberals ...      0\n",
       "2004  MOSCOW (Reuters) - Russia s FSB security servi...      1"
      ]
     },
     "execution_count": 94,
     "metadata": {},
     "output_type": "execute_result"
    }
   ],
   "source": [
    "df.head()"
   ]
  },
  {
   "attachments": {},
   "cell_type": "markdown",
   "id": "f6db6cdb",
   "metadata": {},
   "source": [
    "#### Creating a function to convert the text in lowercase, remove the extra space, special chr., ulr and links."
   ]
  },
  {
   "cell_type": "code",
   "execution_count": 95,
   "id": "33c0befe",
   "metadata": {},
   "outputs": [],
   "source": [
    "import re\n",
    "import string\n",
    "def wordopt(text):\n",
    "    text = text.lower()\n",
    "    text = re.sub('\\[.*?\\]', '', text)\n",
    "    text = re.sub(\"\\\\W\",\" \",text) \n",
    "    text = re.sub('https?://\\S+|www\\.\\S+', '', text)\n",
    "    text = re.sub('<.*?>+', '', text)\n",
    "    text = re.sub('[%s]' % re.escape(string.punctuation), '', text)\n",
    "    text = re.sub('\\n', '', text)\n",
    "    text = re.sub('\\w*\\d\\w*', '', text)    \n",
    "    return text\n",
    "df[\"text\"] = df[\"text\"].apply(wordopt)\n"
   ]
  },
  {
   "attachments": {},
   "cell_type": "markdown",
   "id": "01ef83f1",
   "metadata": {},
   "source": [
    "#### Lemmatization\n",
    "##### Lemmatization is the process of reducing words to their base or root form, which can help to group together words with similar meanings and reduce the number of unique words in a dataset. "
   ]
  },
  {
   "cell_type": "code",
   "execution_count": 96,
   "id": "82e29d02",
   "metadata": {},
   "outputs": [
    {
     "name": "stderr",
     "output_type": "stream",
     "text": [
      "[nltk_data] Downloading package punkt to\n",
      "[nltk_data]     C:\\Users\\ashisgupta\\AppData\\Roaming\\nltk_data...\n",
      "[nltk_data]   Package punkt is already up-to-date!\n",
      "[nltk_data] Downloading package wordnet to\n",
      "[nltk_data]     C:\\Users\\ashisgupta\\AppData\\Roaming\\nltk_data...\n",
      "[nltk_data]   Package wordnet is already up-to-date!\n",
      "[nltk_data] Downloading package stopwords to\n",
      "[nltk_data]     C:\\Users\\ashisgupta\\AppData\\Roaming\\nltk_data...\n",
      "[nltk_data]   Package stopwords is already up-to-date!\n"
     ]
    }
   ],
   "source": [
    "import nltk\n",
    "from nltk.stem import WordNetLemmatizer\n",
    "# Download necessary resources for tokenization and lemmatization\n",
    "nltk.download('punkt')\n",
    "nltk.download('wordnet')\n",
    "nltk.download('stopwords')\n",
    "from nltk.corpus import stopwords\n",
    "# Create a lemmatizer object\n",
    "lemmatizer = WordNetLemmatizer()\n",
    "# Define a function to lemmatize a list of words\n",
    "def lemmatize_text(text):\n",
    "    words = nltk.word_tokenize(text)\n",
    "    lemmatized_words = [lemmatizer.lemmatize(word) for word in words if word not in set(stopwords.words('english'))]\n",
    "    return ' '.join(lemmatized_words)\n",
    "# Apply the lemmatization function to the 'text' column of the DataFrame\n",
    "df['text'] = df['text'].apply(lemmatize_text)"
   ]
  },
  {
   "cell_type": "code",
   "execution_count": 97,
   "id": "226c5b31",
   "metadata": {},
   "outputs": [],
   "source": [
    "# Defining dependent and independent variable as x and y\n",
    "X = df[\"text\"]\n",
    "Y = df[\"label\"]"
   ]
  },
  {
   "cell_type": "code",
   "execution_count": 98,
   "id": "64c3ff5d",
   "metadata": {},
   "outputs": [],
   "source": [
    "# Split data into training and testing sets\n",
    "X_train, X_test, y_train, y_test = train_test_split(X, Y,test_size=0.2, random_state=42)"
   ]
  },
  {
   "attachments": {},
   "cell_type": "markdown",
   "id": "2270380e",
   "metadata": {},
   "source": [
    "### Feature Extraction"
   ]
  },
  {
   "attachments": {},
   "cell_type": "markdown",
   "id": "ade9b2c0",
   "metadata": {},
   "source": [
    "#### Tokenization\n",
    "##### It is the process of dividing a text into smaller units (each word will be an index in an array)"
   ]
  },
  {
   "cell_type": "code",
   "execution_count": 101,
   "id": "0e19eb6e",
   "metadata": {},
   "outputs": [
    {
     "data": {
      "text/plain": [
       "['models/fakeNews/tokenizer']"
      ]
     },
     "execution_count": 101,
     "metadata": {},
     "output_type": "execute_result"
    }
   ],
   "source": [
    "# defining tokenizer\n",
    "tokenizer = Tokenizer(num_words=5000)\n",
    "tokenizer.fit_on_texts(X_train)\n",
    "# Converting text to sequence\n",
    "X_train = tokenizer.texts_to_sequences(X_train)\n",
    "X_test = tokenizer.texts_to_sequences(X_test)\n",
    "vocab_size = len(tokenizer.word_index) + 1\n",
    "max_len = 500\n",
    "# padding\n",
    "X_train = pad_sequences(X_train, padding='post', maxlen=max_len)\n",
    "X_test = pad_sequences(X_test, padding='post', maxlen=max_len)\n",
    "# Exporting Tokenizer\n",
    "import joblib\n",
    "joblib.dump(tokenizer,\"models/fakeNews/tokenizer\")"
   ]
  },
  {
   "attachments": {},
   "cell_type": "markdown",
   "id": "4fcc4415",
   "metadata": {},
   "source": [
    "### Convolutional Neural Networks (CNNs)\n",
    "#### CNNs are commonly used for text classification tasks such as fake news detection. They can learn to detect patterns and features in the text by using convolutional layers and pooling layers."
   ]
  },
  {
   "cell_type": "code",
   "execution_count": 102,
   "id": "0ae8d992",
   "metadata": {},
   "outputs": [],
   "source": [
    "# Define the Model\n",
    "CNN = Sequential()\n",
    "CNN.add(Embedding(input_dim=vocab_size, output_dim=50, input_length=max_len))\n",
    "CNN.add(Conv1D(filters=64, kernel_size=3, activation='relu'))\n",
    "CNN.add(GlobalMaxPooling1D())\n",
    "CNN.add(Dense(units=64, activation='relu'))\n",
    "CNN.add(Dropout(rate=0.2))\n",
    "CNN.add(Dense(units=1, activation='sigmoid'))\n",
    "# Compile the model\n",
    "CNN.compile(loss='binary_crossentropy', optimizer='adam', metrics=['accuracy'])"
   ]
  },
  {
   "cell_type": "code",
   "execution_count": 103,
   "id": "ec9a04e7",
   "metadata": {},
   "outputs": [
    {
     "name": "stdout",
     "output_type": "stream",
     "text": [
      "Epoch 1/5\n",
      "551/551 [==============================] - 38s 67ms/step - loss: 0.1405 - accuracy: 0.9367 - val_loss: 0.0454 - val_accuracy: 0.9836\n",
      "Epoch 2/5\n",
      "551/551 [==============================] - 37s 68ms/step - loss: 0.0218 - accuracy: 0.9931 - val_loss: 0.0382 - val_accuracy: 0.9866\n",
      "Epoch 3/5\n",
      "551/551 [==============================] - 36s 65ms/step - loss: 0.0045 - accuracy: 0.9989 - val_loss: 0.0426 - val_accuracy: 0.9880\n",
      "Epoch 4/5\n",
      "551/551 [==============================] - 37s 68ms/step - loss: 0.0011 - accuracy: 0.9998 - val_loss: 0.0437 - val_accuracy: 0.9883\n",
      "Epoch 5/5\n",
      "551/551 [==============================] - 37s 67ms/step - loss: 4.6319e-04 - accuracy: 0.9999 - val_loss: 0.0473 - val_accuracy: 0.9883\n"
     ]
    },
    {
     "data": {
      "text/plain": [
       "<keras.callbacks.History at 0x2781232f088>"
      ]
     },
     "execution_count": 103,
     "metadata": {},
     "output_type": "execute_result"
    }
   ],
   "source": [
    "# Train the model\n",
    "CNN.fit(X_train, y_train, epochs=5, batch_size=64, verbose=1, validation_data=(X_test, y_test))"
   ]
  },
  {
   "cell_type": "code",
   "execution_count": 104,
   "id": "9a99143b",
   "metadata": {},
   "outputs": [
    {
     "name": "stdout",
     "output_type": "stream",
     "text": [
      "276/276 [==============================] - 1s 3ms/step\n",
      "Accuracy: 98.83%\n",
      "Confusion Matrix:  [[3303   61]\n",
      " [  42 5399]]\n"
     ]
    }
   ],
   "source": [
    "# Print Accuracy and Confusion Matrix\n",
    "y_pred = CNN.predict(X_test)\n",
    "y_pred = np.round(y_pred)\n",
    "acc_score = accuracy_score(y_test, y_pred)\n",
    "cm = confusion_matrix(y_test, y_pred)\n",
    "print(f'Accuracy: {round(acc_score*100,2)}%')\n",
    "print(\"Confusion Matrix: \", cm)\n",
    "# Save the model\n",
    "CNN.save('models/fakeNews/CNN.h5')"
   ]
  },
  {
   "attachments": {},
   "cell_type": "markdown",
   "id": "6ec0616b",
   "metadata": {},
   "source": [
    "### Recurrent Neural Networks (RNNs)\n",
    "#### RNNs are another popular choice for text classification tasks. They can process sequential data by using feedback loops, allowing them to capture the context and meaning of the text."
   ]
  },
  {
   "cell_type": "code",
   "execution_count": 105,
   "id": "ae7e038a",
   "metadata": {},
   "outputs": [],
   "source": [
    "# Define the model\n",
    "RNN = Sequential()\n",
    "RNN.add(Embedding(5000, 128, input_length=X_train.shape[1]))\n",
    "RNN.add(LSTM(128, dropout=0.2, recurrent_dropout=0.2))\n",
    "RNN.add(Dense(1, activation='sigmoid'))\n",
    "# Compile the model\n",
    "RNN.compile(loss='binary_crossentropy', optimizer='adam', metrics=['accuracy'])"
   ]
  },
  {
   "cell_type": "code",
   "execution_count": 106,
   "id": "aa773222",
   "metadata": {},
   "outputs": [
    {
     "name": "stdout",
     "output_type": "stream",
     "text": [
      "Epoch 1/5\n",
      "551/551 [==============================] - 2016s 4s/step - loss: 0.5877 - accuracy: 0.6958 - val_loss: 0.4265 - val_accuracy: 0.8391\n",
      "Epoch 2/5\n",
      "551/551 [==============================] - 1992s 4s/step - loss: 0.4168 - accuracy: 0.8417 - val_loss: 0.3780 - val_accuracy: 0.8667\n",
      "Epoch 3/5\n",
      "551/551 [==============================] - 1973s 4s/step - loss: 0.3520 - accuracy: 0.8858 - val_loss: 0.3507 - val_accuracy: 0.8878\n",
      "Epoch 4/5\n",
      "551/551 [==============================] - 1965s 4s/step - loss: 0.3494 - accuracy: 0.8876 - val_loss: 0.3496 - val_accuracy: 0.8869\n",
      "Epoch 5/5\n",
      "551/551 [==============================] - 1978s 4s/step - loss: 0.3419 - accuracy: 0.8909 - val_loss: 0.3348 - val_accuracy: 0.8972\n"
     ]
    },
    {
     "data": {
      "text/plain": [
       "<keras.callbacks.History at 0x278123c1648>"
      ]
     },
     "execution_count": 106,
     "metadata": {},
     "output_type": "execute_result"
    }
   ],
   "source": [
    "# Train the model\n",
    "RNN.fit(X_train, y_train, epochs=5, batch_size=64, verbose=1, validation_data=(X_test, y_test))"
   ]
  },
  {
   "cell_type": "code",
   "execution_count": 107,
   "id": "0f8ffd61",
   "metadata": {},
   "outputs": [
    {
     "name": "stdout",
     "output_type": "stream",
     "text": [
      "276/276 [==============================] - 25s 89ms/step\n",
      "Accuracy: 89.72%\n",
      "Confusion Matrix:  [[2851  513]\n",
      " [ 392 5049]]\n"
     ]
    }
   ],
   "source": [
    "# Print Accuracy and Confusion Matrix\n",
    "y_pred = RNN.predict(X_test)\n",
    "y_pred = np.round(y_pred)\n",
    "acc_score = accuracy_score(y_test, y_pred)\n",
    "cm = confusion_matrix(y_test, y_pred)\n",
    "print(f'Accuracy: {round(acc_score*100,2)}%')\n",
    "print(\"Confusion Matrix: \", cm)\n",
    "# Save the model\n",
    "RNN.save('models/fakeNews/RNN.h5')"
   ]
  },
  {
   "cell_type": "code",
   "execution_count": 108,
   "id": "ea1c2507",
   "metadata": {},
   "outputs": [],
   "source": [
    "def manual_testing(news):\n",
    "    new_article=news\n",
    "    new_article = wordopt(new_article)\n",
    "    new_article = lemmatize_text(new_article)\n",
    "    new_article = tokenizer.texts_to_sequences([new_article])\n",
    "    padded = pad_sequences(new_article, padding='post', maxlen=500)\n",
    "    pred_CNN = CNN.predict(padded)\n",
    "    pred_RNN = RNN.predict(padded)\n",
    "    return print(\"\\n\\nCNN Prediction: {} \\nRNN Prediction: {}\".format(pred_CNN,pred_RNN))"
   ]
  },
  {
   "cell_type": "code",
   "execution_count": 109,
   "id": "abb252b5",
   "metadata": {},
   "outputs": [
    {
     "name": "stdout",
     "output_type": "stream",
     "text": [
      "1/1 [==============================] - 0s 24ms/step\n",
      "1/1 [==============================] - 0s 79ms/step\n",
      "\n",
      "\n",
      "CNN Prediction: [[0.60015076]] \n",
      "RNN Prediction: [[0.8758223]]\n"
     ]
    }
   ],
   "source": [
    "news = str(input())\n",
    "manual_testing(news)"
   ]
  }
 ],
 "metadata": {
  "kernelspec": {
   "display_name": "Python 3",
   "language": "python",
   "name": "python3"
  },
  "language_info": {
   "codemirror_mode": {
    "name": "ipython",
    "version": 3
   },
   "file_extension": ".py",
   "mimetype": "text/x-python",
   "name": "python",
   "nbconvert_exporter": "python",
   "pygments_lexer": "ipython3",
   "version": "3.7.9"
  },
  "vscode": {
   "interpreter": {
    "hash": "47ce0aed635e00af2fbd4ed33da37445a4ef4710a85474e4eaacbf68ef84f273"
   }
  }
 },
 "nbformat": 4,
 "nbformat_minor": 5
}
